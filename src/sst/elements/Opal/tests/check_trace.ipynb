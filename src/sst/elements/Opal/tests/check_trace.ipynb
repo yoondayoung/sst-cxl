{
 "cells": [
  {
   "cell_type": "code",
   "execution_count": 22,
   "metadata": {},
   "outputs": [
    {
     "name": "stdout",
     "output_type": "stream",
     "text": [
      "0\n"
     ]
    }
   ],
   "source": [
    "# f = open('resnet_trace_200mb.trace', \"r\")\n",
    "f = open('resnet_cxl_pc-0.trace', \"r\")\n",
    "# f = open('check_trace_10.trace', \"r\")\n",
    "min_addr = 0\n",
    "min_pc = 0\n",
    "max_addr = 0\n",
    "max_pc = 0\n",
    "\n",
    "# 32bit -> 4GB\n",
    "# upper_32_val = 2^32\n",
    "\n",
    "hash = {}\n",
    "hash_pc = {}\n",
    "\n",
    "pc_rep = {}\n",
    "\n",
    "interests = []\n",
    "\n",
    "lines = f.readlines()\n",
    "for line in lines:\n",
    "    line = list(line.split())\n",
    "    addr = int(line[2])\n",
    "    # upper_addr = addr>>32\n",
    "    # upper_addr = upper_addr<<32\n",
    "    # low_addr = addr - (upper_addr)\n",
    "    pc = int(line[4])\n",
    "    upper_pc = pc>>32\n",
    "    upper_pc = upper_pc<<32\n",
    "    low_pc = pc - (upper_pc)\n",
    "    # print(addr, low_addr, upper_addr)\n",
    "    # line[0] = int(line[0]) - 10141570\n",
    "    # if upper_addr in hash:\n",
    "    #     hash[upper_addr].append(low_addr)\n",
    "    # else:\n",
    "    #     hash[upper_addr] = [low_addr]\n",
    "        \n",
    "    if upper_pc in hash_pc:\n",
    "        if low_pc not in hash_pc[upper_pc]:\n",
    "            hash_pc[upper_pc].append(low_pc)\n",
    "            pc_rep[pc] = 1\n",
    "        else:\n",
    "            pc_rep[pc] += 1\n",
    "            # if pc_rep[pc] > 10000:\n",
    "            #     if (addr not in interests):\n",
    "            #         interests.append(addr)\n",
    "    else:\n",
    "        hash_pc[upper_pc] = [low_pc]\n",
    "        pc_rep[pc] = 1\n",
    "    # if min_addr==0 or int(line[2])<min_addr:\n",
    "    #     min_addr = int(line[2])\n",
    "    # if min_pc==0 or int(line[4])<min_pc:\n",
    "    #     min_pc = int(line[4])\n",
    "    # if int(line[2])>max_addr:\n",
    "    #     max_addr = int(line[2])\n",
    "    # if int(line[4])>max_pc:\n",
    "    #     max_pc = int(line[4])\n",
    "# print(hash)\n",
    "print(len(hash))"
   ]
  },
  {
   "cell_type": "code",
   "execution_count": null,
   "metadata": {},
   "outputs": [],
   "source": []
  },
  {
   "cell_type": "code",
   "execution_count": 23,
   "metadata": {},
   "outputs": [],
   "source": [
    "pcs = []\n",
    "for rk, rv in pc_rep.items():\n",
    "    if rv > 10000:\n",
    "        # print ('pc: ',format(rk, '#X'),'access #: ', rv)\n",
    "        pcs.append(rk)\n",
    "        # if rk < 0X5613EA017D00:\n",
    "        #     print('false!')\n",
    "# print(pcs)"
   ]
  },
  {
   "cell_type": "code",
   "execution_count": 24,
   "metadata": {},
   "outputs": [],
   "source": [
    "interest_hash = {}\n",
    "\n",
    "for line in lines:\n",
    "    line = list(line.split())\n",
    "    addr = int(line[2])\n",
    "    upper_addr = addr>>32\n",
    "    upper_addr = upper_addr<<32\n",
    "    low_addr = addr - (upper_addr)\n",
    "    pc = int(line[4])\n",
    "    \n",
    "        \n",
    "    if pc in pcs:\n",
    "        if pc in pc_address:\n",
    "            if addr in pc_address[pc]:\n",
    "                pc_address[pc][addr] += 1\n",
    "            else:\n",
    "                pc_address[pc][addr] = 1\n",
    "        else:\n",
    "            pc_address[pc] = {}\n",
    "            pc_address[pc][addr] = 1\n",
    "        if upper_addr in interest_hash:\n",
    "            interest_hash[upper_addr].append(low_addr)\n",
    "        else:\n",
    "            interest_hash[upper_addr] = [low_addr]\n",
    "    # if min_addr==0 or int(line[2])<min_addr:\n",
    "    #     min_addr = int(line[2])\n",
    "    # if min_pc==0 or int(line[4])<min_pc:\n",
    "    #     min_pc = int(line[4])\n",
    "    # if int(line[2])>max_addr:\n",
    "    #     max_addr = int(line[2])\n",
    "    # if int(line[4])>max_pc:\n",
    "    #     max_pc = int(line[4])\n",
    "# print(hash)\n",
    "# print(len(interests))"
   ]
  },
  {
   "cell_type": "code",
   "execution_count": 25,
   "metadata": {},
   "outputs": [
    {
     "name": "stdout",
     "output_type": "stream",
     "text": [
      "done\n"
     ]
    }
   ],
   "source": [
    "out_file = open('trace_analysis_long.txt', \"w\")\n",
    "for hk, hv in pc_address.items():\n",
    "    out_file.write(f'pc:{hk:#X}')\n",
    "    out_file.write('\\n-----')\n",
    "    # if hk==0X5613EA018689:\n",
    "    length = 0\n",
    "    out_file.write('\\ndata access:\\n')\n",
    "  \n",
    "    for vk, vv in hv.items():\n",
    "        out_file.write(f'{vk:#X}: {vv}, ')\n",
    "        length += vv\n",
    "    # print('')\n",
    "    out_file.write('\\n-----')\n",
    "    # print('range:', max(hv)-min(hv))\n",
    "    out_file.write(f'\\naccesses: {length}')\n",
    "    out_file.write('\\n=========\\n')\n",
    "    # print('-----')\n",
    "print('done')"
   ]
  },
  {
   "cell_type": "code",
   "execution_count": 32,
   "metadata": {},
   "outputs": [
    {
     "name": "stdout",
     "output_type": "stream",
     "text": [
      "done\n"
     ]
    }
   ],
   "source": [
    "out_file = open('stride_analysis_long.txt', \"w\")\n",
    "for hk, hv in pc_address.items():\n",
    "    # out_file.write(f'pc:{hk:#X}')\n",
    "    # out_file.write('\\n-----')\n",
    "    # if hk==0X5613EA018689:\n",
    "    length = 0\n",
    "    # out_file.write('\\ndata access:\\n')\n",
    "    \n",
    "    if len(hv)>30:\n",
    "        out_file.write(f'{hk:#X}: {len(hv)}\\n')\n",
    "        pv = -1\n",
    "        st_list = []\n",
    "        for vk, vv in hv.items():\n",
    "            if pv!=-1:\n",
    "                st_list.append(vk-pv)\n",
    "            pv = vk\n",
    "        out_file.write(str(st_list))\n",
    "        out_file.write('\\n-----\\n')\n",
    "    # for vk, vv in hv.items():\n",
    "    #     if \n",
    "    # print('-----')\n",
    "print('done')"
   ]
  },
  {
   "cell_type": "code",
   "execution_count": 40,
   "metadata": {},
   "outputs": [
    {
     "name": "stdout",
     "output_type": "stream",
     "text": [
      "0X7FFD00000000\n",
      "range: 10592\n",
      "accesses: 6005580\n",
      "-----\n",
      "0X7FA500000000\n",
      "range: 10391500\n",
      "accesses: 777384\n",
      "-----\n"
     ]
    }
   ],
   "source": [
    "for hk, hv in interest_hash.items():\n",
    "    print(format(hk, '#X'))\n",
    "    print('range:', max(hv)-min(hv))\n",
    "    print('accesses:', len(hv))\n",
    "    print('-----')"
   ]
  },
  {
   "cell_type": "code",
   "execution_count": 15,
   "metadata": {},
   "outputs": [
    {
     "name": "stdout",
     "output_type": "stream",
     "text": [
      "3\n"
     ]
    }
   ],
   "source": [
    "# f = open('resnet_trace_200mb.trace', \"r\")\n",
    "# f = open('check_trace_10.trace', \"r\")\n",
    "# min_addr = 0\n",
    "# min_pc = 0\n",
    "# max_addr = 0\n",
    "# max_pc = 0\n",
    "\n",
    "# 32bit -> 4GB\n",
    "# upper_32_val = 2^32\n",
    "\n",
    "hash = {}\n",
    "hash_pc = {}\n",
    "\n",
    "\n",
    "# lines = f.readlines()\n",
    "for line in lines:\n",
    "    line = list(line.split())\n",
    "    addr = int(line[2])\n",
    "    upper_addr = addr>>32\n",
    "    upper_addr = upper_addr<<32\n",
    "    low_addr = addr - (upper_addr)\n",
    "    pc = int(line[4])\n",
    "    upper_pc = pc>>32\n",
    "    upper_pc = upper_pc<<32\n",
    "    low_pc = pc - (upper_pc)\n",
    "    # print(addr, low_addr, upper_addr)\n",
    "    # line[0] = int(line[0]) - 10141570\n",
    "    if upper_addr in hash:\n",
    "        hash[upper_addr].append(low_addr)\n",
    "    else:\n",
    "        hash[upper_addr] = [low_addr]\n",
    "        \n",
    "    if upper_pc in hash_pc:\n",
    "        hash_pc[upper_pc].append(low_pc)\n",
    "    else:\n",
    "        hash_pc[upper_pc] = [low_pc]\n",
    "        # pc_rep[pc] = 1\n",
    "    # if min_addr==0 or int(line[2])<min_addr:\n",
    "    #     min_addr = int(line[2])\n",
    "    # if min_pc==0 or int(line[4])<min_pc:\n",
    "    #     min_pc = int(line[4])\n",
    "    # if int(line[2])>max_addr:\n",
    "    #     max_addr = int(line[2])\n",
    "    # if int(line[4])>max_pc:\n",
    "    #     max_pc = int(line[4])\n",
    "# print(hash)\n",
    "print(len(hash))"
   ]
  },
  {
   "cell_type": "code",
   "execution_count": 21,
   "metadata": {},
   "outputs": [
    {
     "name": "stdout",
     "output_type": "stream",
     "text": [
      "pc:  0X561300000000\n",
      "range: 34108\n",
      "0XEA017514 0XEA01FA50\n",
      "accesses: 6811682\n",
      "-----\n",
      "pc:  0X7FA500000000\n",
      "range: 400106218\n",
      "0X5FA02384 0X7779466E\n",
      "accesses: 8318\n",
      "-----\n"
     ]
    }
   ],
   "source": [
    "for hk, hv in hash_pc.items():\n",
    "    print('pc: ',format(hk, '#X'))\n",
    "    print('range:', max(hv)-min(hv))\n",
    "    print(format(min(hv), '#X'),format(max(hv), '#X'))\n",
    "    print('accesses:', len(hv))\n",
    "    print('-----')"
   ]
  },
  {
   "cell_type": "code",
   "execution_count": 20,
   "metadata": {},
   "outputs": [
    {
     "name": "stdout",
     "output_type": "stream",
     "text": [
      "pc:  0X7FFD00000000\n",
      "range: 13808\n",
      "0XF4E46778 0XF4E49D68\n",
      "accesses: 6038349\n",
      "-----\n",
      "pc:  0X7FA500000000\n",
      "range: 442566340\n",
      "0X5D197000 0X777A76C4\n",
      "accesses: 779567\n",
      "-----\n",
      "pc:  0X561300000000\n",
      "range: 31837112\n",
      "0XEA0143C0 0XEBE70F78\n",
      "accesses: 2084\n",
      "-----\n"
     ]
    }
   ],
   "source": [
    "for hk, hv in hash.items():\n",
    "    print('pc: ',format(hk, '#X'))\n",
    "    print('range:', max(hv)-min(hv))\n",
    "    print(format(min(hv), '#X'),format(max(hv), '#X'))\n",
    "    print('accesses:', len(hv))\n",
    "    print('-----')"
   ]
  }
 ],
 "metadata": {
  "kernelspec": {
   "display_name": "Python 3",
   "language": "python",
   "name": "python3"
  },
  "language_info": {
   "codemirror_mode": {
    "name": "ipython",
    "version": 3
   },
   "file_extension": ".py",
   "mimetype": "text/x-python",
   "name": "python",
   "nbconvert_exporter": "python",
   "pygments_lexer": "ipython3",
   "version": "3.10.6"
  },
  "orig_nbformat": 4
 },
 "nbformat": 4,
 "nbformat_minor": 2
}
